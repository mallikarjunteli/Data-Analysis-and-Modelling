{
  "nbformat": 4,
  "nbformat_minor": 0,
  "metadata": {
    "colab": {
      "provenance": [],
      "authorship_tag": "ABX9TyMY1glXF+kQ1pUe88Ki9x/t",
      "include_colab_link": true
    },
    "kernelspec": {
      "name": "python3",
      "display_name": "Python 3"
    },
    "language_info": {
      "name": "python"
    }
  },
  "cells": [
    {
      "cell_type": "markdown",
      "metadata": {
        "id": "view-in-github",
        "colab_type": "text"
      },
      "source": [
        "<a href=\"https://colab.research.google.com/github/mallikarjunteli/Data-Analysis-and-Modelling/blob/main/Data_Analysi_and_Modelling.ipynb\" target=\"_parent\"><img src=\"https://colab.research.google.com/assets/colab-badge.svg\" alt=\"Open In Colab\"/></a>"
      ]
    },
    {
      "cell_type": "markdown",
      "source": [
        "Importing Libraries"
      ],
      "metadata": {
        "id": "3rMTwNkMVOnS"
      }
    },
    {
      "cell_type": "code",
      "execution_count": null,
      "metadata": {
        "id": "aSJ8MfS1VGaB"
      },
      "outputs": [],
      "source": [
        "import pandas as pd\n",
        "import numpy as np\n",
        "import matplotlib.pyplot as plt\n",
        "import seaborn as sns\n",
        "from sklearn.model_selection import train_test_split"
      ]
    },
    {
      "cell_type": "markdown",
      "source": [
        "# Load the dataset"
      ],
      "metadata": {
        "id": "lHCbgjhhVStw"
      }
    },
    {
      "cell_type": "code",
      "source": [
        "df = pd.read_csv('/Titanic-Dataset.csv')"
      ],
      "metadata": {
        "id": "0zDqD7VXVWbv"
      },
      "execution_count": null,
      "outputs": []
    },
    {
      "cell_type": "markdown",
      "source": [
        "# Initial data exploration"
      ],
      "metadata": {
        "id": "igUin5HIVZz1"
      }
    },
    {
      "cell_type": "code",
      "source": [
        "print(df.head())\n",
        "print(df.info())\n",
        "print(df.describe())"
      ],
      "metadata": {
        "id": "h_gAOW2SVeeu"
      },
      "execution_count": null,
      "outputs": []
    },
    {
      "cell_type": "markdown",
      "source": [
        "# Visualize data distributions"
      ],
      "metadata": {
        "id": "LBdEdrDeVhvB"
      }
    },
    {
      "cell_type": "code",
      "source": [
        "sns.histplot(df['relevant_feature'], bins=20)\n",
        "plt.show()"
      ],
      "metadata": {
        "id": "Tw8MDR6BVkYU"
      },
      "execution_count": null,
      "outputs": []
    },
    {
      "cell_type": "markdown",
      "source": [
        "# Identify missing values"
      ],
      "metadata": {
        "id": "Qtqe5zsKVpYk"
      }
    },
    {
      "cell_type": "code",
      "source": [
        "print(df.isnull().sum())"
      ],
      "metadata": {
        "id": "p0KbH4tMVtAj"
      },
      "execution_count": null,
      "outputs": []
    },
    {
      "cell_type": "markdown",
      "source": [
        "# Explore relationships between variables"
      ],
      "metadata": {
        "id": "H7y2m2q-VwS4"
      }
    },
    {
      "cell_type": "code",
      "source": [
        "correlation_matrix = df.corr()\n",
        "sns.heatmap(correlation_matrix, annot=True)\n",
        "plt.show()"
      ],
      "metadata": {
        "id": "f46Fs33sVzDO"
      },
      "execution_count": null,
      "outputs": []
    },
    {
      "cell_type": "markdown",
      "source": [
        "# Data Preprocessing\n",
        "# Handle missing values\n",
        "# Encode categorical variables\n",
        "# Split the data into training and testing sets"
      ],
      "metadata": {
        "id": "okx2LqdKV2GS"
      }
    },
    {
      "cell_type": "code",
      "source": [
        "X = df.drop('target_variable', axis=1)\n",
        "y = df['target_variable']\n",
        "X_train, X_test, y_train, y_test = train_test_split(X, y, test_size=0.2, random_state=42)"
      ],
      "metadata": {
        "id": "tM0lSuehV9_b"
      },
      "execution_count": null,
      "outputs": []
    },
    {
      "cell_type": "markdown",
      "source": [
        "2) Classification Task"
      ],
      "metadata": {
        "id": "nBRQTNAKWLg3"
      }
    },
    {
      "cell_type": "code",
      "source": [
        "from sklearn.model_selection import cross_val_score\n",
        "from sklearn.metrics import accuracy_score, classification_report, roc_auc_score\n",
        "from sklearn.ensemble import RandomForestClassifier"
      ],
      "metadata": {
        "id": "luEn7-aBWOgR"
      },
      "execution_count": null,
      "outputs": []
    },
    {
      "cell_type": "markdown",
      "source": [
        "# Build and train the classification model"
      ],
      "metadata": {
        "id": "2SDJP12hWRM4"
      }
    },
    {
      "cell_type": "code",
      "source": [
        "clf = RandomForestClassifier()\n",
        "clf.fit(X_train, y_train)"
      ],
      "metadata": {
        "id": "Yvw80qP7WSCX"
      },
      "execution_count": null,
      "outputs": []
    },
    {
      "cell_type": "markdown",
      "source": [
        "# Evaluate model performance"
      ],
      "metadata": {
        "id": "pHhgL0u4WVh9"
      }
    },
    {
      "cell_type": "code",
      "source": [
        "print(\"Accuracy:\", accuracy_score(y_test, y_pred))\n",
        "print(\"Classification Report:\\n\", classification_report(y_test, y_pred))\n",
        "print(\"ROC AUC Score:\", roc_auc_score(y_test, y_pred))"
      ],
      "metadata": {
        "id": "WBeVvHbvWBZk"
      },
      "execution_count": null,
      "outputs": []
    },
    {
      "cell_type": "markdown",
      "source": [
        "3. Regression Task:"
      ],
      "metadata": {
        "id": "AYpUaztgW4Eg"
      }
    },
    {
      "cell_type": "code",
      "source": [
        "from sklearn.linear_model import LinearRegression\n",
        "from sklearn.metrics import mean_squared_error, r2_score"
      ],
      "metadata": {
        "id": "3hJkx0GsW7Z2"
      },
      "execution_count": null,
      "outputs": []
    },
    {
      "cell_type": "markdown",
      "source": [
        "# Build and train the regression model"
      ],
      "metadata": {
        "id": "tTw4ZYkKW_Yg"
      }
    },
    {
      "cell_type": "code",
      "source": [
        "reg = LinearRegression()\n",
        "reg.fit(X_train, y_train)"
      ],
      "metadata": {
        "id": "UAPzVJuSXCHb"
      },
      "execution_count": null,
      "outputs": []
    },
    {
      "cell_type": "markdown",
      "source": [
        "# Evaluate model performance"
      ],
      "metadata": {
        "id": "oTayCaX-XG7e"
      }
    },
    {
      "cell_type": "code",
      "source": [
        "y_pred_reg = reg.predict(X_test)\n",
        "print(\"RMSE:\", np.sqrt(mean_squared_error(y_test, y_pred_reg)))\n",
        "print(\"R-squared:\", r2_score(y_test, y_pred_reg))"
      ],
      "metadata": {
        "id": "rtmAzRtvXH8L"
      },
      "execution_count": null,
      "outputs": []
    },
    {
      "cell_type": "code",
      "source": [
        "4. Time Series Analysis"
      ],
      "metadata": {
        "id": "tZguBWYMXK5k"
      },
      "execution_count": null,
      "outputs": []
    },
    {
      "cell_type": "markdown",
      "source": [
        "5. Feature Engineering:"
      ],
      "metadata": {
        "id": "0OnM23tbXbSX"
      }
    },
    {
      "cell_type": "markdown",
      "source": [
        "6. Dimensionality Reduction"
      ],
      "metadata": {
        "id": "sxxney3hXqxk"
      }
    },
    {
      "cell_type": "code",
      "source": [
        "from sklearn.decomposition import PCA"
      ],
      "metadata": {
        "id": "5bK5fJ3vXxJ6"
      },
      "execution_count": null,
      "outputs": []
    },
    {
      "cell_type": "markdown",
      "source": [
        "# Apply PCA for dimensionality reduction"
      ],
      "metadata": {
        "id": "uX7uXoArX1sv"
      }
    },
    {
      "cell_type": "code",
      "source": [
        "pca = PCA(n_components=3)\n",
        "X_train_pca = pca.fit_transform(X_train)\n",
        "X_test_pca = pca.transform(X_test)"
      ],
      "metadata": {
        "id": "TCL5cTNXX7Sc"
      },
      "execution_count": null,
      "outputs": []
    },
    {
      "cell_type": "markdown",
      "source": [],
      "metadata": {
        "id": "7sF7OWNJYAz2"
      }
    }
  ]
}